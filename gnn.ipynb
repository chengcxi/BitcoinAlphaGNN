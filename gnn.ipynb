{
 "cells": [
  {
   "cell_type": "code",
   "execution_count": null,
   "id": "cc787ba7",
   "metadata": {},
   "outputs": [
    {
     "ename": "ModuleNotFoundError",
     "evalue": "No module named 'torch'",
     "output_type": "error",
     "traceback": [
      "\u001b[31m---------------------------------------------------------------------------\u001b[39m",
      "\u001b[31mModuleNotFoundError\u001b[39m                       Traceback (most recent call last)",
      "\u001b[36mCell\u001b[39m\u001b[36m \u001b[39m\u001b[32mIn[1]\u001b[39m\u001b[32m, line 1\u001b[39m\n\u001b[32m----> \u001b[39m\u001b[32m1\u001b[39m \u001b[38;5;28;01mimport\u001b[39;00m\u001b[38;5;250m \u001b[39m\u001b[34;01mtorch\u001b[39;00m\n\u001b[32m      2\u001b[39m \u001b[38;5;28;01mimport\u001b[39;00m\u001b[38;5;250m \u001b[39m\u001b[34;01mmath\u001b[39;00m\n\u001b[32m      3\u001b[39m \u001b[38;5;28;01mimport\u001b[39;00m\u001b[38;5;250m \u001b[39m\u001b[34;01mmatplotlib\u001b[39;00m\u001b[34;01m.\u001b[39;00m\u001b[34;01mpyplot\u001b[39;00m\u001b[38;5;250m \u001b[39m\u001b[38;5;28;01mas\u001b[39;00m\u001b[38;5;250m \u001b[39m\u001b[34;01mplot\u001b[39;00m\n",
      "\u001b[31mModuleNotFoundError\u001b[39m: No module named 'torch'"
     ]
    }
   ],
   "source": [
    "import polars as pl\n",
    "\n",
    "bitcoinalpha.colunns = ['source', 'target', 'weight', 'timestamp']\n",
    "print(bitcoinalpha.head)"
   ]
  },
  {
   "cell_type": "code",
   "execution_count": null,
   "id": "93195406",
   "metadata": {},
   "outputs": [],
   "source": [
    "bitcoinalpha.shape\n",
    "bitcoinalpha.describe()"
   ]
  },
  {
   "cell_type": "code",
   "execution_count": null,
   "id": "394c0a79",
   "metadata": {},
   "outputs": [],
   "source": [
    "import torch\n",
    "from torch_geometric.data import Data\n",
    "import math\n",
    "import numpy as np\n",
    "import networkx as nx\n",
    "\n",
    "# edge list & weight\n",
    "edge_index = torch.tensor(bitcoinalpha.select(['source', 'target']).to_numpy().T, dtype=torch.long)\n",
    "edge_weight = torch.tensor(bitcoinalpha['weight'].to_numpy(), dtype=torch.float)\n",
    "\n",
    "# nodes & features\n",
    "num_nodes = max(bitcoinalpha['source'].max(), bitcoinalpha['target'].max()) + 1\n",
    "x = torch.ones((num_nodes, 1))  # scalar feature of 1\n",
    "\n",
    "# set data obj\n",
    "data = Data(x=x, edge_index=edge_index, edge_attr=edge_weight)"
   ]
  },
  {
   "cell_type": "code",
   "execution_count": null,
   "id": "54302cdc",
   "metadata": {},
   "outputs": [],
   "source": [
    "import torch.nn.functional as F\n",
    "from torch_geometric.nn import SAGEConv\n",
    "\n",
    "class GraphSAGE(torch.nn.Module):\n",
    "    def __init__(self, in_channels, hidden_channels, out_channels):\n",
    "        super().__init__()\n",
    "        self.conv1 = SAGEConv(in_channels, hidden_channels)\n",
    "        self.conv2 = SAGEConv(hidden_channels, out_channels)\n",
    "\n",
    "    def forward(self, x, edge_index):\n",
    "        x = self.conv1(x, edge_index)\n",
    "        x = F.relu(x)\n",
    "        x = self.conv2(x, edge_index)\n",
    "        return x\n",
    "        \n",
    "class LinkPredictor(torch.nn.Module):\n",
    "    def forward(self, emb, edge_index):\n",
    "        src = emb[edge_index[:, 0]]\n",
    "        dst = emb[edge_index[:, 1]]\n",
    "        return (src * dst).sum(dim=1)"
   ]
  },
  {
   "cell_type": "code",
   "execution_count": null,
   "id": "30b63906",
   "metadata": {},
   "outputs": [],
   "source": [
    "model = GraphSAGE(in_channels=1, hidden_channels=16, out_channels=8)\n",
    "out = model(data.x, data.edge_index)\n",
    "print(out)"
   ]
  },
  {
   "cell_type": "code",
   "execution_count": null,
   "id": "a000362c",
   "metadata": {},
   "outputs": [],
   "source": [
    "from sklearn.model_selection import train_test_split\n",
    "\n",
    "# edge indicies\n",
    "pos_edges = bitcoinalpha.filter(pl.col(\"weight\") == 10)\n",
    "neg_edges = bitcoinalpha.filter(pl.col(\"weight\") == -10)\n",
    "\n",
    "# 70/30 training split\n",
    "pos_train, pos_test = train_test_split(pos_edges, test_size=0.3, random_state=128)\n",
    "neg_train, neg_test = train_test_split(neg_edges, test_size=0.3, random_state=128)\n",
    "\n",
    "# combine trained & test edges\n",
    "train_edges = pl.concat([pos_train, neg_train])\n",
    "test_edges = pl.concat([pos_test, neg_test])\n",
    "\n",
    "def to_edge_tensor(df):\n",
    "    return torch.tensor(df.select(['source', 'target']).to_numpy(), dtype=torch.long)\n",
    "\n",
    "def to_label_tensor(df):\n",
    "    return torch.tensor((df['weight'] == 10).to_numpy(), dtype=torch.float)  # 1 for trust, 0 for distrust\n",
    "\n",
    "train_edge_index = to_edge_tensor(train_edges)\n",
    "train_labels = to_label_tensor(train_edges)\n",
    "\n",
    "test_edge_index = to_edge_tensor(test_edges)\n",
    "test_labels = to_label_tensor(test_edges)"
   ]
  },
  {
   "cell_type": "code",
   "execution_count": null,
   "id": "4589b52b",
   "metadata": {},
   "outputs": [],
   "source": [
    "model = GraphSAGE(1, 16, 16)\n",
    "predictor = LinkPredictor()\n",
    "\n",
    "optimizer = torch.optim.Adam(list(model.parameters()) + list(predictor.parameters()), lr=0.01)\n",
    "loss_fn = torch.nn.BCEWithLogitsLoss()\n",
    "\n",
    "for epoch in range(1, 150):\n",
    "    model.train()\n",
    "    optimizer.zero_grad()\n",
    "    \n",
    "    node_emb = model(data.x, data.edge_index)  # node embeddings\n",
    "    pred = predictor(node_emb, train_edge_index)\n",
    "    \n",
    "    loss = loss_fn(pred, train_labels)\n",
    "    loss.backward()\n",
    "    optimizer.step()\n",
    "    \n",
    "    print(f\"Epoch {epoch} | Loss: {loss.item():.5f}\")"
   ]
  },
  {
   "cell_type": "code",
   "execution_count": null,
   "id": "bcd207cb",
   "metadata": {},
   "outputs": [],
   "source": [
    "model.eval()\n",
    "with torch.no_grad():\n",
    "    node_emb = model(data.x, data.edge_index)\n",
    "    pred = predictor(node_emb, test_edge_index)\n",
    "    pred_label = torch.sigmoid(pred) > 0.5\n",
    "    \n",
    "    acc = (pred_label == test_labels.bool()).float().mean()\n",
    "    print(f\"Test Accuracy: {acc:.4f}\")"
   ]
  },
  {
   "cell_type": "code",
   "execution_count": null,
   "id": "7fdcafdd",
   "metadata": {},
   "outputs": [],
   "source": [
    "G = nx.DiGraph()\n",
    "for src, target in test_edge_index.tolist():\n",
    "  G.add_edge(src, target)"
   ]
  },
  {
   "cell_type": "code",
   "execution_count": null,
   "id": "cd8f5e79",
   "metadata": {},
   "outputs": [],
   "source": [
    "model.eval()\n",
    "with torch.no_grad():\n",
    "    node_emb = model(data.x, data.edge_index)\n",
    "    pred_scores = predictor(node_emb, test_edge_index)\n",
    "    pred_probs = torch.sigmoid(pred_scores)\n",
    "    pred_labels = (pred_probs > 0.5).int()  # 1: trust, 0: distrust\n",
    "    \n",
    "edge_colors = ['green' if p == 1 else 'red' for p in pred_labels]"
   ]
  },
  {
   "cell_type": "code",
   "execution_count": null,
   "id": "fbdfb248",
   "metadata": {},
   "outputs": [],
   "source": [
    "import matplotlib.pyplot as plt\n",
    "\n",
    "# node position\n",
    "pos = nx.spring_layout(G, seed=1)\n",
    "\n",
    "plt.figure(figsize=(10, 10))\n",
    "nx.draw_networkx_nodes(G, pos, node_size=10, node_color='gray')\n",
    "nx.draw_networkx_edges(G, pos, edge_color=edge_colors, arrows=False, width=1)\n",
    "\n",
    "plt.title(\"Bitcoin Alpha Trust Predictions (Green = Trust, Red = Distrust)\")\n",
    "plt.axis(\"off\")\n",
    "plt.show()"
   ]
  }
 ],
 "metadata": {
  "kernelspec": {
   "display_name": "Python 3",
   "language": "python",
   "name": "python3"
  },
  "language_info": {
   "codemirror_mode": {
    "name": "ipython",
    "version": 3
   },
   "file_extension": ".py",
   "mimetype": "text/x-python",
   "name": "python",
   "nbconvert_exporter": "python",
   "pygments_lexer": "ipython3",
   "version": "3.11.11"
  }
 },
 "nbformat": 4,
 "nbformat_minor": 5
}
